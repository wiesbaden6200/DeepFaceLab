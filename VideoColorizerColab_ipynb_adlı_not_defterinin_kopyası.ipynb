{
  "nbformat": 4,
  "nbformat_minor": 0,
  "metadata": {
    "accelerator": "GPU",
    "colab": {
      "name": "VideoColorizerColab.ipynb adlı not defterinin kopyası",
      "provenance": [],
      "collapsed_sections": [],
      "toc_visible": true,
      "include_colab_link": true
    },
    "kernelspec": {
      "display_name": "Python 3",
      "language": "python",
      "name": "python3"
    },
    "language_info": {
      "codemirror_mode": {
        "name": "ipython",
        "version": 3
      },
      "file_extension": ".py",
      "mimetype": "text/x-python",
      "name": "python",
      "nbconvert_exporter": "python",
      "pygments_lexer": "ipython3",
      "version": "3.7.6"
    }
  },
  "cells": [
    {
      "cell_type": "markdown",
      "metadata": {
        "id": "view-in-github",
        "colab_type": "text"
      },
      "source": [
        "<a href=\"https://colab.research.google.com/github/wiesbaden6200/DeepFaceLab/blob/master/VideoColorizerColab_ipynb_adl%C4%B1_not_defterinin_kopyas%C4%B1.ipynb\" target=\"_parent\"><img src=\"https://colab.research.google.com/assets/colab-badge.svg\" alt=\"Open In Colab\"/></a>"
      ]
    },
    {
      "cell_type": "markdown",
      "metadata": {
        "id": "tGGDPnrf87OK"
      },
      "source": [
        "### **<font color='blue'> Video Colorizer </font>**"
      ]
    },
    {
      "cell_type": "markdown",
      "metadata": {
        "id": "663IVxfrpIAb"
      },
      "source": [
        "#◢ DeOldify - Colorize your own videos!\n",
        "\n",
        "\n",
        "_FYI: This notebook is intended as a tool to colorize gifs and short videos, if you are trying to convert longer video you may hit the limit on processing space. Running the Jupyter notebook on your own machine is recommended (and faster) for larger video sizes._\n",
        "\n",
        "####**Credits:**\n",
        "\n",
        "Big special thanks to:\n",
        "\n",
        "Robert Bell for all his work on the video Colab notebook, and paving the way to video in DeOldify!\n",
        "\n",
        "Dana Kelley for doing things, breaking stuff & having an opinion on everything."
      ]
    },
    {
      "cell_type": "markdown",
      "metadata": {
        "id": "ZjPqTBNoohK9"
      },
      "source": [
        "\n",
        "\n",
        "---\n",
        "\n",
        "\n",
        "#◢ Verify Correct Runtime Settings\n",
        "\n",
        "**<font color='#FF000'> IMPORTANT </font>**\n",
        "\n",
        "In the \"Runtime\" menu for the notebook window, select \"Change runtime type.\" Ensure that the following are selected:\n",
        "* Runtime Type = Python 3\n",
        "* Hardware Accelerator = GPU \n"
      ]
    },
    {
      "cell_type": "markdown",
      "metadata": {
        "id": "gaEJBGDlptEo"
      },
      "source": [
        "#◢ Git clone and install DeOldify"
      ]
    },
    {
      "cell_type": "code",
      "metadata": {
        "id": "-T-svuHytJ-8",
        "colab": {
          "base_uri": "https://localhost:8080/"
        },
        "outputId": "eb5c0bee-7a7e-4605-838e-9238054d5f67"
      },
      "source": [
        "!git clone https://github.com/jantic/DeOldify.git DeOldify"
      ],
      "execution_count": 1,
      "outputs": [
        {
          "output_type": "stream",
          "text": [
            "Cloning into 'DeOldify'...\n",
            "remote: Enumerating objects: 38, done.\u001b[K\n",
            "remote: Counting objects: 100% (38/38), done.\u001b[K\n",
            "remote: Compressing objects: 100% (28/28), done.\u001b[K\n",
            "remote: Total 2187 (delta 13), reused 22 (delta 6), pack-reused 2149\u001b[K\n",
            "Receiving objects: 100% (2187/2187), 69.41 MiB | 33.52 MiB/s, done.\n",
            "Resolving deltas: 100% (989/989), done.\n"
          ],
          "name": "stdout"
        }
      ]
    },
    {
      "cell_type": "code",
      "metadata": {
        "id": "sOtBnsZA87OK",
        "colab": {
          "base_uri": "https://localhost:8080/"
        },
        "outputId": "8f8d32a9-59cc-4769-911c-ad624e5128b7"
      },
      "source": [
        "cd DeOldify"
      ],
      "execution_count": 2,
      "outputs": [
        {
          "output_type": "stream",
          "text": [
            "/content/DeOldify\n"
          ],
          "name": "stdout"
        }
      ]
    },
    {
      "cell_type": "markdown",
      "metadata": {
        "id": "BDFjbNxaadNJ"
      },
      "source": [
        "#◢ Setup"
      ]
    },
    {
      "cell_type": "code",
      "metadata": {
        "id": "00_GcC_trpdE"
      },
      "source": [
        "#NOTE:  This must be the first call in order to work properly!\n",
        "from deoldify import device\n",
        "from deoldify.device_id import DeviceId\n",
        "#choices:  CPU, GPU0...GPU7\n",
        "device.set(device=DeviceId.GPU0)\n",
        "\n",
        "import torch\n",
        "\n",
        "if not torch.cuda.is_available():\n",
        "    print('GPU not available.')\n",
        "\n",
        "from os import path"
      ],
      "execution_count": 3,
      "outputs": []
    },
    {
      "cell_type": "code",
      "metadata": {
        "id": "Lsx7xCXNSVt6",
        "colab": {
          "base_uri": "https://localhost:8080/",
          "height": 1000
        },
        "outputId": "338b4637-53b3-4559-ec24-6a914e0abe73"
      },
      "source": [
        "!pip install -r colab_requirements.txt"
      ],
      "execution_count": 4,
      "outputs": [
        {
          "output_type": "stream",
          "text": [
            "Collecting fastai==1.0.51\n",
            "\u001b[?25l  Downloading https://files.pythonhosted.org/packages/44/cc/dcc702cf43bb8c908d172e5be156615928f962366a20834c320cbca2b9d0/fastai-1.0.51-py3-none-any.whl (214kB)\n",
            "\r\u001b[K     |█▌                              | 10kB 24.9MB/s eta 0:00:01\r\u001b[K     |███                             | 20kB 32.4MB/s eta 0:00:01\r\u001b[K     |████▋                           | 30kB 37.6MB/s eta 0:00:01\r\u001b[K     |██████▏                         | 40kB 34.0MB/s eta 0:00:01\r\u001b[K     |███████▋                        | 51kB 34.5MB/s eta 0:00:01\r\u001b[K     |█████████▏                      | 61kB 37.1MB/s eta 0:00:01\r\u001b[K     |██████████▊                     | 71kB 27.0MB/s eta 0:00:01\r\u001b[K     |████████████▎                   | 81kB 24.9MB/s eta 0:00:01\r\u001b[K     |█████████████▉                  | 92kB 26.3MB/s eta 0:00:01\r\u001b[K     |███████████████▎                | 102kB 23.4MB/s eta 0:00:01\r\u001b[K     |████████████████▉               | 112kB 23.4MB/s eta 0:00:01\r\u001b[K     |██████████████████▍             | 122kB 23.4MB/s eta 0:00:01\r\u001b[K     |████████████████████            | 133kB 23.4MB/s eta 0:00:01\r\u001b[K     |█████████████████████▍          | 143kB 23.4MB/s eta 0:00:01\r\u001b[K     |███████████████████████         | 153kB 23.4MB/s eta 0:00:01\r\u001b[K     |████████████████████████▌       | 163kB 23.4MB/s eta 0:00:01\r\u001b[K     |██████████████████████████      | 174kB 23.4MB/s eta 0:00:01\r\u001b[K     |███████████████████████████▋    | 184kB 23.4MB/s eta 0:00:01\r\u001b[K     |█████████████████████████████   | 194kB 23.4MB/s eta 0:00:01\r\u001b[K     |██████████████████████████████▋ | 204kB 23.4MB/s eta 0:00:01\r\u001b[K     |████████████████████████████████| 215kB 23.4MB/s \n",
            "\u001b[?25hCollecting tensorboardX==1.6\n",
            "\u001b[?25l  Downloading https://files.pythonhosted.org/packages/5c/76/89dd44458eb976347e5a6e75eb79fecf8facd46c1ce259bad54e0044ea35/tensorboardX-1.6-py2.py3-none-any.whl (129kB)\n",
            "\r\u001b[K     |██▌                             | 10kB 30.6MB/s eta 0:00:01\r\u001b[K     |█████                           | 20kB 35.7MB/s eta 0:00:01\r\u001b[K     |███████▋                        | 30kB 43.2MB/s eta 0:00:01\r\u001b[K     |██████████▏                     | 40kB 46.1MB/s eta 0:00:01\r\u001b[K     |████████████▋                   | 51kB 36.4MB/s eta 0:00:01\r\u001b[K     |███████████████▏                | 61kB 37.4MB/s eta 0:00:01\r\u001b[K     |█████████████████▊              | 71kB 39.3MB/s eta 0:00:01\r\u001b[K     |████████████████████▎           | 81kB 41.5MB/s eta 0:00:01\r\u001b[K     |██████████████████████▉         | 92kB 43.3MB/s eta 0:00:01\r\u001b[K     |█████████████████████████▎      | 102kB 41.3MB/s eta 0:00:01\r\u001b[K     |███████████████████████████▉    | 112kB 41.3MB/s eta 0:00:01\r\u001b[K     |██████████████████████████████▍ | 122kB 41.3MB/s eta 0:00:01\r\u001b[K     |████████████████████████████████| 133kB 41.3MB/s \n",
            "\u001b[?25hCollecting ffmpeg\n",
            "  Downloading https://files.pythonhosted.org/packages/f0/cc/3b7408b8ecf7c1d20ad480c3eaed7619857bf1054b690226e906fdf14258/ffmpeg-1.4.tar.gz\n",
            "Collecting ffmpeg-python==0.1.17\n",
            "  Downloading https://files.pythonhosted.org/packages/3d/10/330cbc8e63d072d40413f4d470444a6a1e8c8c6a80b2a4ac302d1252ca1b/ffmpeg_python-0.1.17-py3-none-any.whl\n",
            "Collecting youtube-dl>=2019.4.17\n",
            "\u001b[?25l  Downloading https://files.pythonhosted.org/packages/4c/18/3cb351ff60d7b53cb8d5a2f27f3de0dc28b145566dbcf3b790774ec5cc50/youtube_dl-2020.12.2-py2.py3-none-any.whl (1.8MB)\n",
            "\u001b[K     |████████████████████████████████| 1.9MB 53.9MB/s \n",
            "\u001b[?25hCollecting jupyterlab\n",
            "\u001b[?25l  Downloading https://files.pythonhosted.org/packages/31/7b/cd66f306c31a84a53c6a3a86e296586e8664f407a6ac5b7cfe6a433aa8c4/jupyterlab-2.2.9-py3-none-any.whl (7.9MB)\n",
            "\u001b[K     |████████████████████████████████| 7.9MB 53.1MB/s \n",
            "\u001b[?25hRequirement already satisfied: opencv-python>=3.3.0.10 in /usr/local/lib/python3.6/dist-packages (from -r colab_requirements.txt (line 7)) (4.1.2.30)\n",
            "Requirement already satisfied: pillow in /usr/local/lib/python3.6/dist-packages (from -r colab_requirements.txt (line 8)) (7.0.0)\n",
            "Requirement already satisfied: numexpr in /usr/local/lib/python3.6/dist-packages (from fastai==1.0.51->-r colab_requirements.txt (line 1)) (2.7.1)\n",
            "Requirement already satisfied: pyyaml in /usr/local/lib/python3.6/dist-packages (from fastai==1.0.51->-r colab_requirements.txt (line 1)) (3.13)\n",
            "Requirement already satisfied: spacy>=2.0.18 in /usr/local/lib/python3.6/dist-packages (from fastai==1.0.51->-r colab_requirements.txt (line 1)) (2.2.4)\n",
            "Requirement already satisfied: dataclasses; python_version < \"3.7\" in /usr/local/lib/python3.6/dist-packages (from fastai==1.0.51->-r colab_requirements.txt (line 1)) (0.8)\n",
            "Requirement already satisfied: fastprogress>=0.1.19 in /usr/local/lib/python3.6/dist-packages (from fastai==1.0.51->-r colab_requirements.txt (line 1)) (1.0.0)\n",
            "Requirement already satisfied: requests in /usr/local/lib/python3.6/dist-packages (from fastai==1.0.51->-r colab_requirements.txt (line 1)) (2.23.0)\n",
            "Requirement already satisfied: bottleneck in /usr/local/lib/python3.6/dist-packages (from fastai==1.0.51->-r colab_requirements.txt (line 1)) (1.3.2)\n",
            "Requirement already satisfied: numpy>=1.15 in /usr/local/lib/python3.6/dist-packages (from fastai==1.0.51->-r colab_requirements.txt (line 1)) (1.18.5)\n",
            "Requirement already satisfied: torchvision in /usr/local/lib/python3.6/dist-packages (from fastai==1.0.51->-r colab_requirements.txt (line 1)) (0.8.1+cu101)\n",
            "Requirement already satisfied: nvidia-ml-py3 in /usr/local/lib/python3.6/dist-packages (from fastai==1.0.51->-r colab_requirements.txt (line 1)) (7.352.0)\n",
            "Requirement already satisfied: torch>=1.0.0 in /usr/local/lib/python3.6/dist-packages (from fastai==1.0.51->-r colab_requirements.txt (line 1)) (1.7.0+cu101)\n",
            "Requirement already satisfied: pandas in /usr/local/lib/python3.6/dist-packages (from fastai==1.0.51->-r colab_requirements.txt (line 1)) (1.1.4)\n",
            "Collecting typing\n",
            "\u001b[?25l  Downloading https://files.pythonhosted.org/packages/05/d9/6eebe19d46bd05360c9a9aae822e67a80f9242aabbfc58b641b957546607/typing-3.7.4.3.tar.gz (78kB)\n",
            "\u001b[K     |████████████████████████████████| 81kB 11.4MB/s \n",
            "\u001b[?25hRequirement already satisfied: scipy in /usr/local/lib/python3.6/dist-packages (from fastai==1.0.51->-r colab_requirements.txt (line 1)) (1.4.1)\n",
            "Requirement already satisfied: matplotlib in /usr/local/lib/python3.6/dist-packages (from fastai==1.0.51->-r colab_requirements.txt (line 1)) (3.2.2)\n",
            "Requirement already satisfied: beautifulsoup4 in /usr/local/lib/python3.6/dist-packages (from fastai==1.0.51->-r colab_requirements.txt (line 1)) (4.6.3)\n",
            "Requirement already satisfied: packaging in /usr/local/lib/python3.6/dist-packages (from fastai==1.0.51->-r colab_requirements.txt (line 1)) (20.4)\n",
            "Requirement already satisfied: six in /usr/local/lib/python3.6/dist-packages (from tensorboardX==1.6->-r colab_requirements.txt (line 2)) (1.15.0)\n",
            "Requirement already satisfied: protobuf>=3.2.0 in /usr/local/lib/python3.6/dist-packages (from tensorboardX==1.6->-r colab_requirements.txt (line 2)) (3.12.4)\n",
            "Requirement already satisfied: future in /usr/local/lib/python3.6/dist-packages (from ffmpeg-python==0.1.17->-r colab_requirements.txt (line 4)) (0.16.0)\n",
            "Requirement already satisfied: notebook>=4.3.1 in /usr/local/lib/python3.6/dist-packages (from jupyterlab->-r colab_requirements.txt (line 6)) (5.3.1)\n",
            "Requirement already satisfied: tornado!=6.0.0,!=6.0.1,!=6.0.2 in /usr/local/lib/python3.6/dist-packages (from jupyterlab->-r colab_requirements.txt (line 6)) (5.1.1)\n",
            "Collecting jupyterlab-server<2.0,>=1.1.5\n",
            "  Downloading https://files.pythonhosted.org/packages/b4/eb/560043dcd8376328f8b98869efed66ef68307278406ab99c7f63a34d4ae2/jupyterlab_server-1.2.0-py3-none-any.whl\n",
            "Requirement already satisfied: jinja2>=2.10 in /usr/local/lib/python3.6/dist-packages (from jupyterlab->-r colab_requirements.txt (line 6)) (2.11.2)\n",
            "Requirement already satisfied: wasabi<1.1.0,>=0.4.0 in /usr/local/lib/python3.6/dist-packages (from spacy>=2.0.18->fastai==1.0.51->-r colab_requirements.txt (line 1)) (0.8.0)\n",
            "Requirement already satisfied: blis<0.5.0,>=0.4.0 in /usr/local/lib/python3.6/dist-packages (from spacy>=2.0.18->fastai==1.0.51->-r colab_requirements.txt (line 1)) (0.4.1)\n",
            "Requirement already satisfied: preshed<3.1.0,>=3.0.2 in /usr/local/lib/python3.6/dist-packages (from spacy>=2.0.18->fastai==1.0.51->-r colab_requirements.txt (line 1)) (3.0.4)\n",
            "Requirement already satisfied: murmurhash<1.1.0,>=0.28.0 in /usr/local/lib/python3.6/dist-packages (from spacy>=2.0.18->fastai==1.0.51->-r colab_requirements.txt (line 1)) (1.0.4)\n",
            "Requirement already satisfied: srsly<1.1.0,>=1.0.2 in /usr/local/lib/python3.6/dist-packages (from spacy>=2.0.18->fastai==1.0.51->-r colab_requirements.txt (line 1)) (1.0.4)\n",
            "Requirement already satisfied: tqdm<5.0.0,>=4.38.0 in /usr/local/lib/python3.6/dist-packages (from spacy>=2.0.18->fastai==1.0.51->-r colab_requirements.txt (line 1)) (4.41.1)\n",
            "Requirement already satisfied: setuptools in /usr/local/lib/python3.6/dist-packages (from spacy>=2.0.18->fastai==1.0.51->-r colab_requirements.txt (line 1)) (50.3.2)\n",
            "Requirement already satisfied: plac<1.2.0,>=0.9.6 in /usr/local/lib/python3.6/dist-packages (from spacy>=2.0.18->fastai==1.0.51->-r colab_requirements.txt (line 1)) (1.1.3)\n",
            "Requirement already satisfied: thinc==7.4.0 in /usr/local/lib/python3.6/dist-packages (from spacy>=2.0.18->fastai==1.0.51->-r colab_requirements.txt (line 1)) (7.4.0)\n",
            "Requirement already satisfied: catalogue<1.1.0,>=0.0.7 in /usr/local/lib/python3.6/dist-packages (from spacy>=2.0.18->fastai==1.0.51->-r colab_requirements.txt (line 1)) (1.0.0)\n",
            "Requirement already satisfied: cymem<2.1.0,>=2.0.2 in /usr/local/lib/python3.6/dist-packages (from spacy>=2.0.18->fastai==1.0.51->-r colab_requirements.txt (line 1)) (2.0.4)\n",
            "Requirement already satisfied: chardet<4,>=3.0.2 in /usr/local/lib/python3.6/dist-packages (from requests->fastai==1.0.51->-r colab_requirements.txt (line 1)) (3.0.4)\n",
            "Requirement already satisfied: urllib3!=1.25.0,!=1.25.1,<1.26,>=1.21.1 in /usr/local/lib/python3.6/dist-packages (from requests->fastai==1.0.51->-r colab_requirements.txt (line 1)) (1.24.3)\n",
            "Requirement already satisfied: idna<3,>=2.5 in /usr/local/lib/python3.6/dist-packages (from requests->fastai==1.0.51->-r colab_requirements.txt (line 1)) (2.10)\n",
            "Requirement already satisfied: certifi>=2017.4.17 in /usr/local/lib/python3.6/dist-packages (from requests->fastai==1.0.51->-r colab_requirements.txt (line 1)) (2020.11.8)\n",
            "Requirement already satisfied: typing-extensions in /usr/local/lib/python3.6/dist-packages (from torch>=1.0.0->fastai==1.0.51->-r colab_requirements.txt (line 1)) (3.7.4.3)\n",
            "Requirement already satisfied: python-dateutil>=2.7.3 in /usr/local/lib/python3.6/dist-packages (from pandas->fastai==1.0.51->-r colab_requirements.txt (line 1)) (2.8.1)\n",
            "Requirement already satisfied: pytz>=2017.2 in /usr/local/lib/python3.6/dist-packages (from pandas->fastai==1.0.51->-r colab_requirements.txt (line 1)) (2018.9)\n",
            "Requirement already satisfied: pyparsing!=2.0.4,!=2.1.2,!=2.1.6,>=2.0.1 in /usr/local/lib/python3.6/dist-packages (from matplotlib->fastai==1.0.51->-r colab_requirements.txt (line 1)) (2.4.7)\n",
            "Requirement already satisfied: kiwisolver>=1.0.1 in /usr/local/lib/python3.6/dist-packages (from matplotlib->fastai==1.0.51->-r colab_requirements.txt (line 1)) (1.3.1)\n",
            "Requirement already satisfied: cycler>=0.10 in /usr/local/lib/python3.6/dist-packages (from matplotlib->fastai==1.0.51->-r colab_requirements.txt (line 1)) (0.10.0)\n",
            "Requirement already satisfied: jupyter-core>=4.4.0 in /usr/local/lib/python3.6/dist-packages (from notebook>=4.3.1->jupyterlab->-r colab_requirements.txt (line 6)) (4.7.0)\n",
            "Requirement already satisfied: terminado>=0.8.1 in /usr/local/lib/python3.6/dist-packages (from notebook>=4.3.1->jupyterlab->-r colab_requirements.txt (line 6)) (0.9.1)\n",
            "Requirement already satisfied: ipython-genutils in /usr/local/lib/python3.6/dist-packages (from notebook>=4.3.1->jupyterlab->-r colab_requirements.txt (line 6)) (0.2.0)\n",
            "Requirement already satisfied: jupyter-client>=5.2.0 in /usr/local/lib/python3.6/dist-packages (from notebook>=4.3.1->jupyterlab->-r colab_requirements.txt (line 6)) (5.3.5)\n",
            "Requirement already satisfied: ipykernel in /usr/local/lib/python3.6/dist-packages (from notebook>=4.3.1->jupyterlab->-r colab_requirements.txt (line 6)) (4.10.1)\n",
            "Requirement already satisfied: nbformat in /usr/local/lib/python3.6/dist-packages (from notebook>=4.3.1->jupyterlab->-r colab_requirements.txt (line 6)) (5.0.8)\n",
            "Requirement already satisfied: nbconvert in /usr/local/lib/python3.6/dist-packages (from notebook>=4.3.1->jupyterlab->-r colab_requirements.txt (line 6)) (5.6.1)\n",
            "Requirement already satisfied: Send2Trash in /usr/local/lib/python3.6/dist-packages (from notebook>=4.3.1->jupyterlab->-r colab_requirements.txt (line 6)) (1.5.0)\n",
            "Requirement already satisfied: traitlets>=4.2.1 in /usr/local/lib/python3.6/dist-packages (from notebook>=4.3.1->jupyterlab->-r colab_requirements.txt (line 6)) (4.3.3)\n",
            "Collecting json5\n",
            "  Downloading https://files.pythonhosted.org/packages/2b/81/22bf51a5bc60dde18bb6164fd597f18ee683de8670e141364d9c432dd3cf/json5-0.9.5-py2.py3-none-any.whl\n",
            "Collecting jsonschema>=3.0.1\n",
            "\u001b[?25l  Downloading https://files.pythonhosted.org/packages/c5/8f/51e89ce52a085483359217bc72cdbf6e75ee595d5b1d4b5ade40c7e018b8/jsonschema-3.2.0-py2.py3-none-any.whl (56kB)\n",
            "\u001b[K     |████████████████████████████████| 61kB 9.7MB/s \n",
            "\u001b[?25hRequirement already satisfied: MarkupSafe>=0.23 in /usr/local/lib/python3.6/dist-packages (from jinja2>=2.10->jupyterlab->-r colab_requirements.txt (line 6)) (1.1.1)\n",
            "Requirement already satisfied: importlib-metadata>=0.20; python_version < \"3.8\" in /usr/local/lib/python3.6/dist-packages (from catalogue<1.1.0,>=0.0.7->spacy>=2.0.18->fastai==1.0.51->-r colab_requirements.txt (line 1)) (2.0.0)\n",
            "Requirement already satisfied: ptyprocess; os_name != \"nt\" in /usr/local/lib/python3.6/dist-packages (from terminado>=0.8.1->notebook>=4.3.1->jupyterlab->-r colab_requirements.txt (line 6)) (0.6.0)\n",
            "Requirement already satisfied: pyzmq>=13 in /usr/local/lib/python3.6/dist-packages (from jupyter-client>=5.2.0->notebook>=4.3.1->jupyterlab->-r colab_requirements.txt (line 6)) (20.0.0)\n",
            "Requirement already satisfied: ipython>=4.0.0 in /usr/local/lib/python3.6/dist-packages (from ipykernel->notebook>=4.3.1->jupyterlab->-r colab_requirements.txt (line 6)) (5.5.0)\n",
            "Requirement already satisfied: bleach in /usr/local/lib/python3.6/dist-packages (from nbconvert->notebook>=4.3.1->jupyterlab->-r colab_requirements.txt (line 6)) (3.2.1)\n",
            "Requirement already satisfied: pandocfilters>=1.4.1 in /usr/local/lib/python3.6/dist-packages (from nbconvert->notebook>=4.3.1->jupyterlab->-r colab_requirements.txt (line 6)) (1.4.3)\n",
            "Requirement already satisfied: testpath in /usr/local/lib/python3.6/dist-packages (from nbconvert->notebook>=4.3.1->jupyterlab->-r colab_requirements.txt (line 6)) (0.4.4)\n",
            "Requirement already satisfied: pygments in /usr/local/lib/python3.6/dist-packages (from nbconvert->notebook>=4.3.1->jupyterlab->-r colab_requirements.txt (line 6)) (2.6.1)\n",
            "Requirement already satisfied: mistune<2,>=0.8.1 in /usr/local/lib/python3.6/dist-packages (from nbconvert->notebook>=4.3.1->jupyterlab->-r colab_requirements.txt (line 6)) (0.8.4)\n",
            "Requirement already satisfied: defusedxml in /usr/local/lib/python3.6/dist-packages (from nbconvert->notebook>=4.3.1->jupyterlab->-r colab_requirements.txt (line 6)) (0.6.0)\n",
            "Requirement already satisfied: entrypoints>=0.2.2 in /usr/local/lib/python3.6/dist-packages (from nbconvert->notebook>=4.3.1->jupyterlab->-r colab_requirements.txt (line 6)) (0.3)\n",
            "Requirement already satisfied: decorator in /usr/local/lib/python3.6/dist-packages (from traitlets>=4.2.1->notebook>=4.3.1->jupyterlab->-r colab_requirements.txt (line 6)) (4.4.2)\n",
            "Requirement already satisfied: attrs>=17.4.0 in /usr/local/lib/python3.6/dist-packages (from jsonschema>=3.0.1->jupyterlab-server<2.0,>=1.1.5->jupyterlab->-r colab_requirements.txt (line 6)) (20.3.0)\n",
            "Requirement already satisfied: pyrsistent>=0.14.0 in /usr/local/lib/python3.6/dist-packages (from jsonschema>=3.0.1->jupyterlab-server<2.0,>=1.1.5->jupyterlab->-r colab_requirements.txt (line 6)) (0.17.3)\n",
            "Requirement already satisfied: zipp>=0.5 in /usr/local/lib/python3.6/dist-packages (from importlib-metadata>=0.20; python_version < \"3.8\"->catalogue<1.1.0,>=0.0.7->spacy>=2.0.18->fastai==1.0.51->-r colab_requirements.txt (line 1)) (3.4.0)\n",
            "Requirement already satisfied: pexpect; sys_platform != \"win32\" in /usr/local/lib/python3.6/dist-packages (from ipython>=4.0.0->ipykernel->notebook>=4.3.1->jupyterlab->-r colab_requirements.txt (line 6)) (4.8.0)\n",
            "Requirement already satisfied: pickleshare in /usr/local/lib/python3.6/dist-packages (from ipython>=4.0.0->ipykernel->notebook>=4.3.1->jupyterlab->-r colab_requirements.txt (line 6)) (0.7.5)\n",
            "Requirement already satisfied: prompt-toolkit<2.0.0,>=1.0.4 in /usr/local/lib/python3.6/dist-packages (from ipython>=4.0.0->ipykernel->notebook>=4.3.1->jupyterlab->-r colab_requirements.txt (line 6)) (1.0.18)\n",
            "Requirement already satisfied: simplegeneric>0.8 in /usr/local/lib/python3.6/dist-packages (from ipython>=4.0.0->ipykernel->notebook>=4.3.1->jupyterlab->-r colab_requirements.txt (line 6)) (0.8.1)\n",
            "Requirement already satisfied: webencodings in /usr/local/lib/python3.6/dist-packages (from bleach->nbconvert->notebook>=4.3.1->jupyterlab->-r colab_requirements.txt (line 6)) (0.5.1)\n",
            "Requirement already satisfied: wcwidth in /usr/local/lib/python3.6/dist-packages (from prompt-toolkit<2.0.0,>=1.0.4->ipython>=4.0.0->ipykernel->notebook>=4.3.1->jupyterlab->-r colab_requirements.txt (line 6)) (0.2.5)\n",
            "Building wheels for collected packages: ffmpeg, typing\n",
            "  Building wheel for ffmpeg (setup.py) ... \u001b[?25l\u001b[?25hdone\n",
            "  Created wheel for ffmpeg: filename=ffmpeg-1.4-cp36-none-any.whl size=6083 sha256=1f2c7446bb8ddf47067250dc3372423aa94cc6be85e672cc4ea8cf6b486fd9b1\n",
            "  Stored in directory: /root/.cache/pip/wheels/b6/68/c3/a05a35f647ba871e5572b9bbfc0b95fd1c6637a2219f959e7a\n",
            "  Building wheel for typing (setup.py) ... \u001b[?25l\u001b[?25hdone\n",
            "  Created wheel for typing: filename=typing-3.7.4.3-cp36-none-any.whl size=26307 sha256=1397272d6ffa6cd874d5793b80320de6b4caa3b9c60acd7d1fc3c9f0bb6e1b92\n",
            "  Stored in directory: /root/.cache/pip/wheels/2d/04/41/8e1836e79581989c22eebac3f4e70aaac9af07b0908da173be\n",
            "Successfully built ffmpeg typing\n",
            "\u001b[31mERROR: nbclient 0.5.1 has requirement jupyter-client>=6.1.5, but you'll have jupyter-client 5.3.5 which is incompatible.\u001b[0m\n",
            "Installing collected packages: typing, fastai, tensorboardX, ffmpeg, ffmpeg-python, youtube-dl, json5, jsonschema, jupyterlab-server, jupyterlab\n",
            "  Found existing installation: fastai 1.0.61\n",
            "    Uninstalling fastai-1.0.61:\n",
            "      Successfully uninstalled fastai-1.0.61\n",
            "  Found existing installation: jsonschema 2.6.0\n",
            "    Uninstalling jsonschema-2.6.0:\n",
            "      Successfully uninstalled jsonschema-2.6.0\n",
            "Successfully installed fastai-1.0.51 ffmpeg-1.4 ffmpeg-python-0.1.17 json5-0.9.5 jsonschema-3.2.0 jupyterlab-2.2.9 jupyterlab-server-1.2.0 tensorboardX-1.6 typing-3.7.4.3 youtube-dl-2020.12.2\n"
          ],
          "name": "stdout"
        },
        {
          "output_type": "display_data",
          "data": {
            "application/vnd.colab-display-data+json": {
              "pip_warning": {
                "packages": [
                  "typing"
                ]
              }
            }
          },
          "metadata": {
            "tags": []
          }
        }
      ]
    },
    {
      "cell_type": "code",
      "metadata": {
        "id": "MsJa69CMwj3l"
      },
      "source": [
        "import fastai\n",
        "from deoldify.visualize import *\n",
        "from pathlib import Path\n",
        "torch.backends.cudnn.benchmark=True\n",
        "import warnings\n",
        "warnings.filterwarnings(\"ignore\", category=UserWarning, message=\".*?Your .*? set is empty.*?\")"
      ],
      "execution_count": null,
      "outputs": []
    },
    {
      "cell_type": "code",
      "metadata": {
        "id": "aFEp4xT187OL"
      },
      "source": [
        "!mkdir 'models'\n",
        "!wget https://data.deepai.org/deoldify/ColorizeVideo_gen.pth -O ./models/ColorizeVideo_gen.pth"
      ],
      "execution_count": null,
      "outputs": []
    },
    {
      "cell_type": "code",
      "metadata": {
        "id": "iSZ8CxhG87OL"
      },
      "source": [
        "!wget https://media.githubusercontent.com/media/jantic/DeOldify/master/resource_images/watermark.png -O ./resource_images/watermark.png"
      ],
      "execution_count": null,
      "outputs": []
    },
    {
      "cell_type": "code",
      "metadata": {
        "id": "tzHVnegp21hC"
      },
      "source": [
        "colorizer = get_video_colorizer()"
      ],
      "execution_count": null,
      "outputs": []
    },
    {
      "cell_type": "markdown",
      "metadata": {
        "id": "1Tn_2Q5e87OL"
      },
      "source": [
        "#◢ Instructions"
      ]
    },
    {
      "cell_type": "markdown",
      "metadata": {
        "id": "KCvEhYD187OL"
      },
      "source": [
        "### source_url\n",
        "Type in a url hosting a video from YouTube, Imgur, Twitter, Reddit, Vimeo, etc.  Many sources work!  GIFs also work.  Full list here: https://ytdl-org.github.io/youtube-dl/supportedsites.html NOTE: If you want to use your own video, upload it first to a site like YouTube. \n",
        "\n",
        "### render_factor\n",
        "The default value of 21 has been carefully chosen and should work -ok- for most scenarios (but probably won't be the -best-). This determines resolution at which the color portion of the video is rendered. Lower resolution will render faster, and colors also tend to look more vibrant. Older and lower quality film in particular will generally benefit by lowering the render factor. Higher render factors are often better for higher quality videos and inconsistencies (flashy render) will generally be reduced, but the colors may get slightly washed out.\n",
        "\n",
        "### watermarked\n",
        "Selected by default, this places a watermark icon of a palette at the bottom left corner of the image.  This is intended to be a standard way to convey to others viewing the image that it is colorized by AI. We want to help promote this as a standard, especially as the technology continues to improve and the distinction between real and fake becomes harder to discern. This palette watermark practice was initiated and lead by the company MyHeritage in the MyHeritage In Color feature (which uses a newer version of DeOldify than what you're using here).\n",
        "\n",
        "### How to Download a Copy\n",
        "Simply right click on the displayed video and click \"Save video as...\"!\n",
        "\n",
        "## Pro Tips\n",
        "1. If a video takes a long time to render and you're wondering how well the frames will actually be colorized, you can preview how well the frames will be rendered at each render_factor by using the code at the bottom. Just stop the video rendering by hitting the stop button on the cell, then run that bottom cell under \"See how well render_factor values perform on a frame here\". It's not perfect and you may still need to experiment a bit especially when it comes to figuring out how to reduce frame inconsistency.  But it'll go a long way in narrowing down what actually works.\n",
        "2. If videos are taking way too much time for your liking, running the Jupyter notebook VideoColorizer.ipynb on your own machine (with DeOldify installed) will generally be much faster (as long as you have the hardware for it).   \n",
        "3. Longer videos (running multiple minutes) are going to have a rough time on Colabs. You'll be much better off using a local install of DeOldify instead in this case.\n",
        "\n",
        "## Troubleshooting\n",
        "The video player may wind up not showing up, in which case- make sure to wait for the Jupyter cell to complete processing first (the play button will stop spinning).  Then follow these alternative download instructions\n",
        "\n",
        "1. In the menu to the left, click Files\n",
        "2. If you don't see the 'DeOldify' folder, click \"Refresh\"\n",
        "3. By default, rendered video will be in /DeOldify/video/result/\n",
        "\n",
        "If a video you downloaded doesn't play, it's probably because the cell didn't complete processing and the video is in a half-finished state."
      ]
    },
    {
      "cell_type": "markdown",
      "metadata": {
        "id": "sUQrbSYipiJn"
      },
      "source": [
        "#◢ Colorize!!"
      ]
    },
    {
      "cell_type": "code",
      "metadata": {
        "id": "ztGqh9E987OL"
      },
      "source": [
        "source_url = '' #@param {type:\"string\"}\n",
        "render_factor = 21  #@param {type: \"slider\", min: 5, max: 40}\n",
        "watermarked = True #@param {type:\"boolean\"}\n",
        "\n",
        "if source_url is not None and source_url !='':\n",
        "    video_path = colorizer.colorize_from_url(source_url, 'video.mp4', render_factor, watermarked=watermarked)\n",
        "    show_video_in_notebook(video_path)\n",
        "else:\n",
        "    print('Provide a video url and try again.')"
      ],
      "execution_count": null,
      "outputs": []
    },
    {
      "cell_type": "markdown",
      "metadata": {
        "id": "__1uIXXZ87OL"
      },
      "source": [
        "## See how well render_factor values perform on a frame here"
      ]
    },
    {
      "cell_type": "code",
      "metadata": {
        "id": "ZZ9moaO987OL"
      },
      "source": [
        "for i in range(10,40,2):\n",
        "    colorizer.vis.plot_transformed_image('video/bwframes/video/00001.jpg', render_factor=i, display_render_factor=True, figsize=(8,8))"
      ],
      "execution_count": null,
      "outputs": []
    },
    {
      "cell_type": "markdown",
      "metadata": {
        "id": "X7Ycv_Y9xAHp"
      },
      "source": [
        "---\n",
        "#⚙ Recommended video and gif sources \n",
        "* [/r/Nickelodeons/](https://www.reddit.com/r/Nickelodeons/)\n",
        "* [r/silentmoviegifs](https://www.reddit.com/r/silentmoviegifs/)\n",
        "* https://twitter.com/silentmoviegifs "
      ]
    }
  ]
}